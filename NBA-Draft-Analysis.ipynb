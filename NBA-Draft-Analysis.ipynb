{
 "cells": [
  {
   "cell_type": "markdown",
   "metadata": {},
   "source": [
    "# TMDB Movie Analysis: Exploring the Most Popular Movies, Highest Grossing Movies, and More!\n",
    "\n",
    "## Introduction\n",
    "\n",
    "How do we know if a certain movie is destined to be a Box Office success, or a Box Office flop?\n",
    "\n",
    "Is it the **million dollar casts** (\"Tom Hanks\", \"Chris Pratt\")? Could it be the **visionary director** (\"J.J. Abrams\", \"James Wan\")? What about the **genres** (Action, Adventure, Thriller)?\n",
    "\n",
    "In this analysis, we set out to analyze TMDB movie dataset to get insights and answer all our burning curiousity. \n",
    "\n",
    "The dataset is from [Kaggle: 5000 Movie Dataset](https://www.kaggle.com/tmdb/tmdb-movie-metadata) and contains information about 10,867 movies collected from The Movie Database (TMDb), including popularity, revenue, budget, cast and genres. \n",
    "\n",
    "_(This analysis is a case study in the Udacity Data Analyst Nanodegree Program.)_\n",
    "\n",
    "## Table of Contents\n",
    "\n",
    "<ul>\n",
